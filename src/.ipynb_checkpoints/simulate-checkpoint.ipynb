{
 "cells": [
  {
   "cell_type": "code",
   "execution_count": 28,
   "id": "74eb7067",
   "metadata": {},
   "outputs": [],
   "source": [
    "import numpy as np\n",
    "import scipy as sp\n",
    "import seaborn as sns\n",
    "import pandas as pd\n",
    "import os\n",
    "workdir = os.path.dirname(os.getcwd())\n",
    "srcdir = os.getcwd()\n",
    "datadir = workdir + '/data/'\n",
    "sns.set()\n",
    "np.set_printoptions(suppress=True)\n",
    "def simulate(θ_true, T):\n",
    "    \n",
    "    Azo = θ_true[0]; Azz = θ_true[1]; Bz = θ_true[2]\n",
    "    Aso = θ_true[3]; Ass = θ_true[4]; Bs = θ_true[5]\n",
    "    \n",
    "    Z01 = 8\n",
    "    Z02 = Azo[1,0]/(1-Azz[1,1])+1\n",
    "    S0 = sp.linalg.solve((np.eye(3) - Ass), Aso)+np.array([[3],[2],[1]])\n",
    "\n",
    "    Z = np.zeros((2,T+1)) \n",
    "    S = np.zeros((3,T+1)) \n",
    "    Z[:,[0]] = np.array([[Z01],[Z02]])\n",
    "    S[:,[0]] = S0\n",
    "\n",
    "    np.random.seed(0)\n",
    "    Wz = np.random.multivariate_normal(np.zeros(2), np.eye(2), T+1).T\n",
    "    Ws = np.random.multivariate_normal(np.zeros(3), np.eye(3), T+1).T\n",
    "\n",
    "    for t in range(T):\n",
    "        Z[:,[t+1]] = Azo + Azz @ Z[:,[t]] + Bz @ Wz[:,[t+1]]\n",
    "        S[:,[t+1]] = Aso + Ass @ S[:,[t]] + Bs @ Ws[:,[t+1]]\n",
    "\n",
    "    D = np.ones((3,1)) @ Z[[0],:] + S\n",
    "    \n",
    "    return D"
   ]
  },
  {
   "cell_type": "code",
   "execution_count": 29,
   "id": "e9ed1540",
   "metadata": {},
   "outputs": [],
   "source": [
    "λ, η = 0.5, 0\n",
    "b11, b22 = 1, 0.5\n",
    "\n",
    "As11, As12, As13,      = 0.9, 0.4, 0.5\n",
    "As21, As22, As23, Aso2 = 0.3, 0.8, 0.3, 0\n",
    "As31, As32, As33, Aso3 = 0.4, 0.2, 0.7, 0\n",
    "\n",
    "Bs11, Bs21, Bs22, Bs31, Bs32, Bs33 = 4, 0.5, 3, 0.7, 0.9, 2\n",
    "\n",
    "Azo = np.array([[0],[η]])\n",
    "Azz = np.array([[1, 1],[0, λ]])\n",
    "Bz = np.array([[b11, 0],[0, b22]])\n",
    "\n",
    "Ass = np.array([[As11, As12, As13],\\\n",
    "                [As21, As22, As23],\\\n",
    "                [As31, As32, As33]])\n",
    "Aso = np.array([[0.0],\\\n",
    "                [Aso2],\\\n",
    "                [Aso3]])\n",
    "Bs =  np.array([[Bs11, 0,    0],\\\n",
    "                [Bs21, Bs22, 0],\\\n",
    "                [Bs31, Bs32, Bs33]])"
   ]
  },
  {
   "cell_type": "code",
   "execution_count": 30,
   "id": "17248186",
   "metadata": {},
   "outputs": [],
   "source": [
    "θ_true = [Azo, Azz, Bz, Aso, Ass, Bs]"
   ]
  },
  {
   "cell_type": "code",
   "execution_count": 31,
   "id": "a2c9ff66",
   "metadata": {},
   "outputs": [],
   "source": [
    "data = simulate(θ_true, 282)\n",
    "np.savetxt(datadir + \"data.csv\", data, delimiter=\",\")"
   ]
  },
  {
   "cell_type": "code",
   "execution_count": 10,
   "id": "ba423c40",
   "metadata": {},
   "outputs": [],
   "source": [
    "obs_series = pd.read_csv(datadir + 'data.csv', delimiter=',', header = None)\n",
    "obs_series = np.array(obs_series)"
   ]
  },
  {
   "cell_type": "code",
   "execution_count": 11,
   "id": "a652c57a",
   "metadata": {},
   "outputs": [
    {
     "data": {
      "text/plain": [
       "(3, 283)"
      ]
     },
     "execution_count": 11,
     "metadata": {},
     "output_type": "execute_result"
    }
   ],
   "source": [
    "obs_series.shape"
   ]
  },
  {
   "cell_type": "code",
   "execution_count": 72,
   "id": "e25bd612",
   "metadata": {},
   "outputs": [
    {
     "name": "stdout",
     "output_type": "stream",
     "text": [
      "150\n"
     ]
    }
   ],
   "source": [
    "for i in (range(150,151)):\n",
    "    print(i)"
   ]
  },
  {
   "cell_type": "code",
   "execution_count": null,
   "id": "3488948e",
   "metadata": {},
   "outputs": [],
   "source": []
  }
 ],
 "metadata": {
  "kernelspec": {
   "display_name": "Python 3 (ipykernel)",
   "language": "python",
   "name": "python3"
  },
  "language_info": {
   "codemirror_mode": {
    "name": "ipython",
    "version": 3
   },
   "file_extension": ".py",
   "mimetype": "text/x-python",
   "name": "python",
   "nbconvert_exporter": "python",
   "pygments_lexer": "ipython3",
   "version": "3.9.12"
  }
 },
 "nbformat": 4,
 "nbformat_minor": 5
}
